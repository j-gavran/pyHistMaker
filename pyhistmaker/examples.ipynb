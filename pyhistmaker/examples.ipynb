{
 "cells": [
  {
   "cell_type": "code",
   "execution_count": null,
   "id": "c00863a2-6ee0-4f94-a58b-4ebb7715df65",
   "metadata": {},
   "outputs": [],
   "source": [
    "%cd ../../.."
   ]
  },
  {
   "cell_type": "code",
   "execution_count": null,
   "id": "28de30a6-2ece-44db-a4f2-931254f5faf2",
   "metadata": {},
   "outputs": [],
   "source": [
    "import numpy as np\n",
    "import matplotlib.pyplot as plt\n",
    "import pandas as pd\n",
    "\n",
    "from ml_hep_sim.pyHistMaker.pyhistmaker.histmaker import HistMaker"
   ]
  },
  {
   "cell_type": "markdown",
   "id": "72c4cfde-385d-436c-a2f8-c0d4304076e8",
   "metadata": {},
   "source": [
    "# test case 1 - multiple histograms"
   ]
  },
  {
   "cell_type": "code",
   "execution_count": null,
   "id": "a84aea04-b494-48a2-ac56-2fa6779f6e71",
   "metadata": {},
   "outputs": [],
   "source": [
    "data = np.random.randn(500, 5)\n",
    "h = HistMaker(data)\n",
    "hists = h()\n",
    "print(hists)\n",
    "hists.plot()\n",
    "plt.tight_layout()\n",
    "plt.show()\n",
    "\n",
    "hists()"
   ]
  },
  {
   "cell_type": "markdown",
   "id": "192be9b5-84cc-4bac-8039-e697b8b0465c",
   "metadata": {
    "tags": []
   },
   "source": [
    "# test case 2 - list of multiple histograms"
   ]
  },
  {
   "cell_type": "code",
   "execution_count": null,
   "id": "206022ee-f7d2-4491-9712-9c0b7eb9890e",
   "metadata": {},
   "outputs": [],
   "source": [
    "sig = np.random.randn(500, 5)\n",
    "bkg = np.random.randn(500, 5)\n",
    "data = [sig, bkg]\n",
    "h = HistMaker(data, n_bins=20)\n",
    "hists = h()\n",
    "print(hists)\n",
    "hists.plot()\n",
    "plt.tight_layout()\n",
    "plt.show()\n",
    "\n",
    "hists()"
   ]
  },
  {
   "cell_type": "markdown",
   "id": "0f90afe6-0ad0-4b05-adc3-28eea33a1c04",
   "metadata": {
    "tags": []
   },
   "source": [
    "## test case 2.1 - get histogram by name"
   ]
  },
  {
   "cell_type": "code",
   "execution_count": null,
   "id": "2cd4ab8d-5c1f-4c27-8b5f-f7207129cec3",
   "metadata": {},
   "outputs": [],
   "source": [
    "hists_0 = hists[\"hist_0\"]\n",
    "print(hists_0)\n",
    "ax = hists_0.plot()\n",
    "ax.legend([\"sig\", \"bkg\"])\n",
    "plt.show()\n",
    "\n",
    "hists_0()"
   ]
  },
  {
   "cell_type": "markdown",
   "id": "990def9e-6fc2-4f29-83c7-6848fd3c1088",
   "metadata": {},
   "source": [
    "# test case 3 - single histogram"
   ]
  },
  {
   "cell_type": "code",
   "execution_count": null,
   "id": "bca70cc6-9d89-4dcc-ad96-19466fd55c32",
   "metadata": {},
   "outputs": [],
   "source": [
    "data = np.random.randn(500)\n",
    "h = HistMaker(data)\n",
    "hists = h()\n",
    "print(hists)\n",
    "hists.plot()\n",
    "plt.show()\n",
    "\n",
    "hists()"
   ]
  },
  {
   "cell_type": "code",
   "execution_count": null,
   "id": "372f6d37-61b3-4c90-a115-c040aafec9bf",
   "metadata": {},
   "outputs": [],
   "source": []
  }
 ],
 "metadata": {
  "kernelspec": {
   "display_name": "Python 3 (ipykernel)",
   "language": "python",
   "name": "python3"
  },
  "language_info": {
   "codemirror_mode": {
    "name": "ipython",
    "version": 3
   },
   "file_extension": ".py",
   "mimetype": "text/x-python",
   "name": "python",
   "nbconvert_exporter": "python",
   "pygments_lexer": "ipython3",
   "version": "3.8.7"
  }
 },
 "nbformat": 4,
 "nbformat_minor": 5
}
