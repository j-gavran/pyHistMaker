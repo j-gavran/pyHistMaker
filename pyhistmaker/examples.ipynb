{
 "cells": [
  {
   "cell_type": "code",
   "execution_count": null,
   "id": "c00863a2-6ee0-4f94-a58b-4ebb7715df65",
   "metadata": {},
   "outputs": [],
   "source": [
    "%cd ../../.."
   ]
  },
  {
   "cell_type": "code",
   "execution_count": null,
   "id": "28de30a6-2ece-44db-a4f2-931254f5faf2",
   "metadata": {},
   "outputs": [],
   "source": [
    "import numpy as np\n",
    "import matplotlib.pyplot as plt\n",
    "import pandas as pd\n",
    "\n",
    "from ml_hep_sim.pyHistMaker.pyhistmaker.histmaker import HistMaker"
   ]
  },
  {
   "cell_type": "markdown",
   "id": "72c4cfde-385d-436c-a2f8-c0d4304076e8",
   "metadata": {},
   "source": [
    "# test case 1 - multiple histograms"
   ]
  },
  {
   "cell_type": "code",
   "execution_count": null,
   "id": "a84aea04-b494-48a2-ac56-2fa6779f6e71",
   "metadata": {},
   "outputs": [],
   "source": [
    "# make data\n",
    "data = np.random.randn(500, 5)\n",
    "\n",
    "# create hist object from data\n",
    "h = HistMaker(data)\n",
    "\n",
    "# call HistMaker\n",
    "# executes make method in HistMaker class and returns Histogram object (Histogram or HistogramCollection)\n",
    "hist_collection = h()\n",
    "print(type(hist_collection), hist_collection)\n",
    "\n",
    "# plot hists\n",
    "hist_collection.plot()\n",
    "plt.tight_layout()\n",
    "plt.show()\n",
    "\n",
    "# calls HistogramCollection and returns pandas df representation\n",
    "# equivalent to: df_collection = hist_collection.hist_df_collection[0]\n",
    "df_collection = hist_collection()\n",
    "df_collection"
   ]
  },
  {
   "cell_type": "markdown",
   "id": "192be9b5-84cc-4bac-8039-e697b8b0465c",
   "metadata": {
    "tags": []
   },
   "source": [
    "# test case 2 - list of multiple histograms"
   ]
  },
  {
   "cell_type": "code",
   "execution_count": null,
   "id": "206022ee-f7d2-4491-9712-9c0b7eb9890e",
   "metadata": {},
   "outputs": [],
   "source": [
    "# make fake signal and background data\n",
    "sig = np.random.randn(500, 5)\n",
    "bkg = np.random.randn(500, 5)\n",
    "data = [sig, bkg]\n",
    "\n",
    "# create hist object from data\n",
    "h = HistMaker(data, n_bins=20)\n",
    "hist_collection = h()\n",
    "print(type(hist_collection), hist_collection)\n",
    "\n",
    "# plot\n",
    "hist_collection.plot()\n",
    "plt.tight_layout()\n",
    "plt.show()\n",
    "\n",
    "# DataFrames for signal and background\n",
    "hist_df_collection = hist_collection()\n",
    "hist_df_collection[0], hist_df_collection[1]"
   ]
  },
  {
   "cell_type": "code",
   "execution_count": null,
   "id": "6e589f4b-360f-4bd6-a9fc-aa93b6aa0b08",
   "metadata": {},
   "outputs": [],
   "source": [
    "hist_collection[\"hist_0\"]"
   ]
  },
  {
   "cell_type": "markdown",
   "id": "0f90afe6-0ad0-4b05-adc3-28eea33a1c04",
   "metadata": {
    "tags": []
   },
   "source": [
    "## test case 2.1 - get histogram by name"
   ]
  },
  {
   "cell_type": "code",
   "execution_count": null,
   "id": "2cd4ab8d-5c1f-4c27-8b5f-f7207129cec3",
   "metadata": {},
   "outputs": [],
   "source": [
    "hists_0 = hist_collection[\"hist_0\"]\n",
    "print(hists_0)\n",
    "ax = hists_0.plot()\n",
    "ax.legend([\"sig\", \"bkg\"])\n",
    "plt.show()\n",
    "\n",
    "hist_df_collection = hists_0()\n",
    "#hist_df_collection[0], hist_df_collection[1]"
   ]
  },
  {
   "cell_type": "code",
   "execution_count": null,
   "id": "bb529854-3ee6-4c50-90a0-7712e2c3c2bd",
   "metadata": {},
   "outputs": [],
   "source": [
    "type(hists_0)"
   ]
  },
  {
   "cell_type": "markdown",
   "id": "990def9e-6fc2-4f29-83c7-6848fd3c1088",
   "metadata": {},
   "source": [
    "# test case 3 - single histogram"
   ]
  },
  {
   "cell_type": "code",
   "execution_count": null,
   "id": "bca70cc6-9d89-4dcc-ad96-19466fd55c32",
   "metadata": {},
   "outputs": [],
   "source": [
    "data = np.random.randn(500)\n",
    "h = HistMaker(data)\n",
    "hists = h()\n",
    "print(hists)\n",
    "hists.plot()\n",
    "plt.show()\n",
    "\n",
    "hists()"
   ]
  },
  {
   "cell_type": "markdown",
   "id": "70554f86-8b09-49ff-9945-bddb28efc77f",
   "metadata": {},
   "source": [
    "# ROOT support"
   ]
  },
  {
   "cell_type": "code",
   "execution_count": null,
   "id": "fbbb5b16-fad2-4ad3-85f5-70935bcdf5f3",
   "metadata": {},
   "outputs": [],
   "source": [
    "from ml_hep_sim.pyHistMaker.pyhistmaker.root_handler import UprootWriter, UprootReader"
   ]
  },
  {
   "cell_type": "code",
   "execution_count": null,
   "id": "ce898ce1-309a-484b-9485-9e387834174b",
   "metadata": {},
   "outputs": [],
   "source": [
    "# make fake signal and background data\n",
    "sig = np.random.randn(500, 5)\n",
    "bkg = np.random.randn(500, 5)\n",
    "data = [sig, bkg]\n",
    "\n",
    "# create hist object from data\n",
    "h = HistMaker(data, n_bins=20)\n",
    "hist_collection = h()\n",
    "\n",
    "# get histogram collection\n",
    "sig_hists, bkg_hists = hist_collection.histogram_collection"
   ]
  },
  {
   "cell_type": "code",
   "execution_count": null,
   "id": "0f9057a7-008a-47f0-b80b-78ce158bd25d",
   "metadata": {},
   "outputs": [],
   "source": [
    "# define writer object with file name\n",
    "uw = UprootWriter(file_path=\"ml_hep_sim/PyHistMaker/pyhistmaker/test.root\")"
   ]
  },
  {
   "cell_type": "code",
   "execution_count": null,
   "id": "198db06a-32f0-468a-9143-3945af0b9a90",
   "metadata": {},
   "outputs": [],
   "source": [
    "# write pyHistMaker histogram to root\n",
    "uw.write_histogram_collection(sig_hists, name=\"signal/\")\n",
    "uw.write_histogram_collection(bkg_hists, name=\"background/\")\n",
    "uw.close()"
   ]
  },
  {
   "cell_type": "code",
   "execution_count": null,
   "id": "fb0af7e0-c8cf-4dd7-8c74-9032df2ce72f",
   "metadata": {},
   "outputs": [],
   "source": [
    "# read the histogram from root back to pyHistMaker\n",
    "ur = UprootReader(file_path=\"ml_hep_sim/PyHistMaker/pyhistmaker/test.root\")"
   ]
  },
  {
   "cell_type": "code",
   "execution_count": null,
   "id": "8dcd178b-11ea-46d5-8bc1-8a69d8665d16",
   "metadata": {},
   "outputs": [],
   "source": [
    "hist_collection = ur.to_histogram_collection()"
   ]
  },
  {
   "cell_type": "code",
   "execution_count": null,
   "id": "710e5fa8-b90e-47dd-bde1-76c613e84204",
   "metadata": {},
   "outputs": [],
   "source": [
    "# plot\n",
    "hist_collection.plot()\n",
    "plt.tight_layout()"
   ]
  },
  {
   "cell_type": "code",
   "execution_count": null,
   "id": "89fc27d0-ef32-4785-b57a-48b4d47a4407",
   "metadata": {},
   "outputs": [],
   "source": []
  }
 ],
 "metadata": {
  "kernelspec": {
   "display_name": "Python 3 (ipykernel)",
   "language": "python",
   "name": "python3"
  },
  "language_info": {
   "codemirror_mode": {
    "name": "ipython",
    "version": 3
   },
   "file_extension": ".py",
   "mimetype": "text/x-python",
   "name": "python",
   "nbconvert_exporter": "python",
   "pygments_lexer": "ipython3",
   "version": "3.8.13"
  }
 },
 "nbformat": 4,
 "nbformat_minor": 5
}
